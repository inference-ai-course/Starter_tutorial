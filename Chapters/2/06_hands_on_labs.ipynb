{
 "cells": [
  {
   "cell_type": "markdown",
   "metadata": {},
   "source": [
    "# Part 6: Hands-on Labs - Interactive Notebook\n",
    "\n",
    "## Introduction\n",
    "This interactive notebook contains comprehensive hands-on labs that combine all the concepts learned in previous sections. Each lab is a complete project that you can work through to gain practical experience."
   ]
  },
  {
   "cell_type": "markdown",
   "metadata": {},
   "source": [
    "## Lab 1: JSON Data Processing Project\n",
    "\n",
    "### Objective\n",
    "Create a complete data processing pipeline that reads JSON data, performs analysis, and generates visualizations."
   ]
  },
  {
   "cell_type": "code",
   "execution_count": null,
   "metadata": {},
   "outputs": [],
   "source": [
    "# Import required libraries\n",
    "import json\n",
    "import statistics\n",
    "from pathlib import Path\n",
    "from typing import List, Dict, Any\n",
    "\n",
    "# Create data directory\n",
    "data_dir = Path(\"lab_data\")\n",
    "data_dir.mkdir(exist_ok=True)\n",
    "print(f\"Created data directory: {data_dir}\")"
   ]
  },
  {
   "cell_type": "code",
   "execution_count": null,
   "metadata": {},
   "outputs": [],
   "source": [
    "# Create sample student data\n",
    "students_data = [\n",
    "    {\"id\": 1, \"name\": \"Alice Johnson\", \"age\": 20, \"major\": \"Computer Science\", \"gpa\": 3.8, \"grades\": {\"CS101\": 92, \"CS102\": 88, \"MATH201\": 85}},\n",
    "    {\"id\": 2, \"name\": \"Bob Smith\", \"age\": 22, \"major\": \"Data Science\", \"gpa\": 3.6, \"grades\": {\"DS101\": 89, \"DS102\": 91, \"STAT201\": 78}},\n",
    "    {\"id\": 3, \"name\": \"Carol Davis\", \"age\": 21, \"major\": \"Computer Science\", \"gpa\": 3.9, \"grades\": {\"CS101\": 95, \"CS103\": 92, \"MATH202\": 88}}\n",
    "]\n",
    "\n",
    "# Save to JSON file\n",
    "with open(data_dir / \"students.json\", 'w') as f:\n",
    "    json.dump(students_data, f, indent=2)\n",
    "\n",
    "print(\"✓ Student data saved to students.json\")"
   ]
  },
  {
   "cell_type": "code",
   "execution_count": null,
   "metadata": {},
   "outputs": [],
   "source": [
    "# Load and validate JSON data\n",
    "def load_json_data(filename: str) -> List[Dict[str, Any]]:\n",
    "    try:\n",
    "        with open(data_dir / filename, 'r') as f:\n",
    "            return json.load(f)\n",
    "    except FileNotFoundError:\n",
    "        raise FileNotFoundError(f\"{filename} file not found\")\n",
    "    except json.JSONDecodeError as e:\n",
    "        raise ValueError(f\"Invalid JSON in {filename}: {e}\")\n",
    "\n",
    "students = load_json_data(\"students.json\")\n",
    "print(f\"✓ Loaded {len(students)} students\")"
   ]
  },
  {
   "cell_type": "code",
   "execution_count": null,
   "metadata": {},
   "outputs": [],
   "source": [
    "# Analyze the data\n",
    "def analyze_student_data(students: List[Dict[str, Any]]) -> Dict[str, Any]:\n",
    "    ages = [s['age'] for s in students]\n",
    "    gpas = [s['gpa'] for s in students]\n",
    "    \n",
    "    # Calculate statistics\n",
    "    stats = {\n",
    "        \"total_students\": len(students),\n",
    "        \"average_age\": statistics.mean(ages),\n",
    "        \"average_gpa\": statistics.mean(gpas),\n",
    "        \"age_range\": (min(ages), max(ages)),\n",
    "        \"gpa_range\": (min(gpas), max(gpas))\n",
    "    }\n",
    "    \n",
    "    # Find top performers\n",
    "    top_performers = []\n",
    "    for student in students:\n",
    "        avg_grade = statistics.mean(student['grades'].values())\n",
    "        if avg_grade >= 90:\n",
    "            top_performers.append({\n",
    "                \"name\": student['name'],\n",
    "                \"average_grade\": avg_grade,\n",
    "                \"gpa\": student['gpa']\n",
    "            })\n",
    "    \n",
    "    stats[\"top_performers\"] = sorted(top_performers, key=lambda x: x['average_grade'], reverse=True)\n",
    "    return stats\n",
    "\n",
    "# Perform analysis\n",
    "analysis_results = analyze_student_data(students)\n",
    "print(\"📊 Analysis Results:\")\n",
    "print(f\"Total students: {analysis_results['total_students']}\")\n",
    "print(f\"Average age: {analysis_results['average_age']:.1f}\")\n",
    "print(f\"Average GPA
