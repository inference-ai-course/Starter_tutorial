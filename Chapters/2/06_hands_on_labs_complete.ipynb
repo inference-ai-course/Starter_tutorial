{
 "cells": [
  {
   "cell_type": "markdown",
   "metadata": {},
   "source": [
    "# Part 6: Hands-on Labs - Complete Guide\n",
    "\n",
    "## Introduction\n",
    "This notebook contains essential hands-on labs for practicing Python and environment management skills for AI engineering."
   ]
  },
  {
   "cell_type": "markdown",
   "metadata": {},
   "source": [
    "## Lab 1: JSON Data Processing\n",
    "\n",
    "Practice loading, validating, and analyzing JSON data."
   ]
  },
  {
   "cell_type": "code",
   "execution_count": null,
   "metadata": {},
   "outputs": [],
   "source": [
    "import json\n",
    "import statistics\n",
    "from pathlib import Path\n",
    "\n",
    "# Create sample data\n",
    "data = [\n",
    "    {\"name\": \"Alice\", \"age\": 25, \"scores\": [85, 92, 78]},\n",
    "    {\"name\": \"Bob\", \"age\": 30, \"scores\": [79, 85, 88]},\n",
    "    {\"name\": \"Carol\", \"age\": 22, \"scores\": [95, 92, 88]}\n",
    "]\n",
    "\n",
    "# Save to JSON\n",
    "with open('students.json', 'w') as f:\n",
    "    json.dump(data, f, indent=2)\n",
    "\n",
    "# Load and analyze\n",
    "with open('students.json', 'r') as f:\n",
    "    students = json.load(f)\n",
    "\n",
    "for student in students:\n",
    "    avg_score = statistics.mean(student['scores'])\n",
    "    print(f\"{student['name']}: Average = {avg_score:.1f}\")"
   ]
  },
  {
   "cell_type": "markdown",
   "metadata": {},
   "source": [
    "## Lab 2: Error Handling Practice\n",
    "\n",
    "Practice proper error handling techniques."
   ]
  },
  {
   "cell_type": "code",
   "execution_count": null,
   "metadata": {},
   "outputs": [],
   "source": [
    "def safe_divide(a, b):\n",
    "    try:\n",
    "        if not isinstance(a, (int, float)) or not isinstance(b, (int, float)):\n",
    "            raise TypeError(\"Both arguments must be numbers\")\n",
    "        if b == 0:\n",
    "            raise ValueError(\"Cannot divide by zero\")\n",
    "        return a / b\n",
    "    except Exception as e:\n",
    "        print(f\"Error: {e}\")\n",
    "        return None\n",
    "\n",
    "# Test the function\n",
    "test_cases = [(10, 2), (10, 0), (\"10\", 2), (None, 5)]\n",
    "for a, b in test_cases:\n",
    "    result = safe_divide(a, b)\n",
    "    if result is not None:\n",
    "        print(f\"✓ {a} / {b} = {result}\")\n",
    "    else:\n",
    "        print(f\"✗ {a} / {b} failed gracefully\")"
   ]
  },
  {
   "cell_type": "markdown",
   "metadata": {},
   "source": [
    "## Lab 3: Environment Setup Commands\n",
    "\n",
    "Practice Conda environment management."
   ]
  },
  {
   "cell_type": "code",
   "execution_count": null,
   "metadata": {},
   "outputs": [],
   "source": [
    "# These are the commands you would run in terminal\n",
    "conda_commands = [\n",
    "    \"conda create -n ai-env python=3.10\",\n",
    "    \"conda activate ai-env\",\n",
    "    \"conda install -c conda-forge numpy pandas matplotlib jupyter\",\n",
    "    \"conda install -c conda-forge pytorch torchvision torchaudio pytorch-cuda=12.4\",\n",
    "    \"pip install transformers huggingface_hub\",\n",
    "    \"conda env export --name ai-env > environment.yml\"\n",
    "]\n",
    "\n",
    "print(\"Conda Environment Setup Commands:\")\n",
    "for cmd in conda_commands:\n",
    "    print(f\"$ {cmd}\")"
   ]
  },
  {
   "cell_type": "markdown",
   "metadata": {},
   "source": [
    "## Lab 4: Data Visualization\n",
    "\n",
    "Create simple visualizations."
   ]
  },
  {
   "cell_type": "code",
   "execution_count": null,
   "metadata": {},
   "outputs": [],
   "source": [
    "import matplotlib.pyplot as plt\n",
    "import numpy as np\n",
    "\n",
    "# Sample data\n",
    "x = np.array([1, 2, 3, 4, 5])\n",
    "y = np.array([2, 4, 5, 4, 5])\n",
    "\n",
    "# Create plots\n",
    "fig, (ax1, ax2) = plt.subplots(1, 2, figsize=(12, 5))\n",
    "\n",
    "# Line plot\n",
    "ax1.plot(x, y, 'b-o', linewidth=2, markersize=8)\n",
    "ax1.set_title('Line Plot Example')\n",
    "ax1.set_xlabel('X Values')\n",
    "ax1.set_ylabel('Y Values')\n",
    "ax1.grid(True, alpha=0.3)\n",
    "\n",
    "# Bar plot\n",
    "ax2.bar(x, y, color='skyblue', alpha=0.7)\n",
    "ax2.set_title('Bar Plot Example')\n",
    "ax2.set_xlabel('Categories')\n",
    "ax2.set_ylabel('Values')\n",
    "\n",
    "plt.tight_layout()\n",
    "plt.show()"
   ]
  },
  {
   "cell_type": "markdown",
   "metadata": {},
   "source": [
    "## Lab 5: Complete Project Structure\n",
    "\n",
    "Example of a well-structured project."
   ]
  },
  {
   "cell_type": "code",
   "execution_count": null,
   "metadata": {},
   "outputs": [],
   "source": [
    "# Create a sample project structure\n",
    "project_structure = \"\"\"\n",
    "my_ai_project/\n",
    "├── data/\n",
    "│   ├── raw/\n",
    "│   └── processed/\n",
    "├── notebooks/\n",
    "│   └── analysis.ipynb\n",
    "├── src/\n",
    "│   ├── __init__.py\n",
    "│   ├── data_loader.py\n",
    "│   └── model.py\n",
    "├── results/\n",
    "├── requirements.txt\n",
    "├── environment.yml\n",
    "└── README.md\n",
    "\"\"\"\n",
    "\n",
    "print(\"Recommended Project Structure:\")\n",
    "print(project_structure)\n",
    "\n",
    "# Create environment.yml content\n",
    "environment_yml = \"\"\"\n",
    "name: ai-project\n",
    "channels:\n",
    "  - conda-forge\n",
    "  - defaults\n",
    "dependencies:\n",
    "  - python=3.10\n",
    "  - numpy=1.24\n",
    "  - pandas=2.0\n",
    "  - matplotlib=3.7\n",
    "  - scikit-learn=1.3\n",
    "  - jupyter=1.0\n",
    "  - pip\n",
"  - pip:\n",
"    - transformers>=4.40\n",
"    - huggingface_hub>=0.22\n",
"\"\"\"\n",
"\n",
"print(\"\\nSample environment.yml:\")\n",
"print(environment_yml.strip())"
   ]
  },
  {
   "cell_type": "markdown",
   "metadata": {},
   "source": [
    "## Summary\n",
    "\n",
    "Complete! You have practiced:\n",
    "- JSON data processing\n",
    "- Error handling\n",
    "- Environment setup\n",
    "- Data visualization\n",
    "- Project structure\n",
    "\n",
    "Continue practicing with your own datasets and projects!"
   ]
  }
 ],
 "metadata": {
  "kernelspec": {
   "display_name": "Python 3",
   "language": "python",
   "name": "python3"
  },
  "language_info": {
   "codemirror_mode": {
    "name": "ipython",
    "version": 3
   },
   "file_extension": ".py",
   "mimetype": "text/x-python",
   "name": "python",
   "nbconvert_exporter": "python",
   "pygments_lexer": "ipython3",
   "version": "3.10.0"
  }
 },
 "nbformat": 4,
 "nbformat_minor": 4
}
